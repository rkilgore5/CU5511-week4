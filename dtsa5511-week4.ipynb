{
 "cells": [
  {
   "cell_type": "markdown",
   "metadata": {},
   "source": [
    "## Overview ##\n",
    "This Notebook is built on Kaggle's Natural Language Processing with Disaster Tweets competition (https://www.kaggle.com/competitions/nlp-getting-started/overview).  The goal is to predice if the tweet in the sample date predicts if the tweet is about a natural disaster.\n",
    "\n",
    "The overall approach will be to start by importing the required python packages and do a quick explority data analysis.  Then it will prepare the data for modeling by addressing nulls, cleaning the text, and tokenizing the text.  The data will then will be split 80-20 for a train-validation.  (Kaggle has its own test dataset for final model testing).  The model build will be an RNN relying mainly on LSTM.  Finally, will look at classic classification metrics like accuracy and ROC AUC, while checking for overfitting by looking at loss curve.\n",
    "\n",
    "For the model, I manually re-ran the modeling section with multiple scenerios, such as learning rate, number of nodes, and dropout.  Then picked a model with a good accuracy and loss curve.  \n",
    "\n",
    "Finally, the kaggle test data set is predicted with the final model, which involves same data transformations as with the training dataset, predicting results with the model and creating a kaggle submission file."
   ]
  },
  {
   "cell_type": "code",
   "execution_count": 1,
   "metadata": {
    "execution": {
     "iopub.execute_input": "2024-09-15T18:59:49.057048Z",
     "iopub.status.busy": "2024-09-15T18:59:49.055719Z",
     "iopub.status.idle": "2024-09-15T18:59:49.064943Z",
     "shell.execute_reply": "2024-09-15T18:59:49.063816Z",
     "shell.execute_reply.started": "2024-09-15T18:59:49.056968Z"
    }
   },
   "outputs": [],
   "source": [
    "#Import python packages\n",
    "import numpy as np \n",
    "import pandas as pd\n",
    "import matplotlib.pyplot as plt\n",
    "import seaborn as sns\n",
    "import re\n",
    "import string\n",
    "\n",
    "from nltk.corpus import stopwords\n",
    "\n",
    "from tensorflow.keras.preprocessing.image import load_img, img_to_array\n",
    "from sklearn.model_selection import train_test_split\n",
    "from tensorflow.keras.models import Sequential\n",
    "from tensorflow.keras.layers import Conv2D, MaxPooling2D, Flatten, Dense, Dropout, LSTM, Embedding, GRU\n",
    "from tensorflow.keras.optimizers import Adam\n",
    "from tensorflow.keras.preprocessing.text import Tokenizer\n",
    "from tensorflow.keras.utils import pad_sequences\n",
    "import tensorflow as tf\n",
    "\n",
    "from sklearn.metrics import accuracy_score, precision_score, recall_score, f1_score, roc_auc_score, roc_curve"
   ]
  },
  {
   "cell_type": "markdown",
   "metadata": {},
   "source": [
    "## EDA ##\n",
    "used to get a quick understanding of the data."
   ]
  },
  {
   "cell_type": "code",
   "execution_count": 2,
   "metadata": {
    "execution": {
     "iopub.execute_input": "2024-09-15T18:52:53.279047Z",
     "iopub.status.busy": "2024-09-15T18:52:53.278450Z",
     "iopub.status.idle": "2024-09-15T18:52:53.344540Z",
     "shell.execute_reply": "2024-09-15T18:52:53.343383Z",
     "shell.execute_reply.started": "2024-09-15T18:52:53.279000Z"
    }
   },
   "outputs": [
    {
     "data": {
      "text/html": [
       "<div>\n",
       "<style scoped>\n",
       "    .dataframe tbody tr th:only-of-type {\n",
       "        vertical-align: middle;\n",
       "    }\n",
       "\n",
       "    .dataframe tbody tr th {\n",
       "        vertical-align: top;\n",
       "    }\n",
       "\n",
       "    .dataframe thead th {\n",
       "        text-align: right;\n",
       "    }\n",
       "</style>\n",
       "<table border=\"1\" class=\"dataframe\">\n",
       "  <thead>\n",
       "    <tr style=\"text-align: right;\">\n",
       "      <th></th>\n",
       "      <th>id</th>\n",
       "      <th>keyword</th>\n",
       "      <th>location</th>\n",
       "      <th>text</th>\n",
       "      <th>target</th>\n",
       "    </tr>\n",
       "  </thead>\n",
       "  <tbody>\n",
       "    <tr>\n",
       "      <th>0</th>\n",
       "      <td>1</td>\n",
       "      <td>NaN</td>\n",
       "      <td>NaN</td>\n",
       "      <td>Our Deeds are the Reason of this #earthquake M...</td>\n",
       "      <td>1</td>\n",
       "    </tr>\n",
       "    <tr>\n",
       "      <th>1</th>\n",
       "      <td>4</td>\n",
       "      <td>NaN</td>\n",
       "      <td>NaN</td>\n",
       "      <td>Forest fire near La Ronge Sask. Canada</td>\n",
       "      <td>1</td>\n",
       "    </tr>\n",
       "    <tr>\n",
       "      <th>2</th>\n",
       "      <td>5</td>\n",
       "      <td>NaN</td>\n",
       "      <td>NaN</td>\n",
       "      <td>All residents asked to 'shelter in place' are ...</td>\n",
       "      <td>1</td>\n",
       "    </tr>\n",
       "    <tr>\n",
       "      <th>3</th>\n",
       "      <td>6</td>\n",
       "      <td>NaN</td>\n",
       "      <td>NaN</td>\n",
       "      <td>13,000 people receive #wildfires evacuation or...</td>\n",
       "      <td>1</td>\n",
       "    </tr>\n",
       "    <tr>\n",
       "      <th>4</th>\n",
       "      <td>7</td>\n",
       "      <td>NaN</td>\n",
       "      <td>NaN</td>\n",
       "      <td>Just got sent this photo from Ruby #Alaska as ...</td>\n",
       "      <td>1</td>\n",
       "    </tr>\n",
       "    <tr>\n",
       "      <th>5</th>\n",
       "      <td>8</td>\n",
       "      <td>NaN</td>\n",
       "      <td>NaN</td>\n",
       "      <td>#RockyFire Update =&gt; California Hwy. 20 closed...</td>\n",
       "      <td>1</td>\n",
       "    </tr>\n",
       "    <tr>\n",
       "      <th>6</th>\n",
       "      <td>10</td>\n",
       "      <td>NaN</td>\n",
       "      <td>NaN</td>\n",
       "      <td>#flood #disaster Heavy rain causes flash flood...</td>\n",
       "      <td>1</td>\n",
       "    </tr>\n",
       "    <tr>\n",
       "      <th>7</th>\n",
       "      <td>13</td>\n",
       "      <td>NaN</td>\n",
       "      <td>NaN</td>\n",
       "      <td>I'm on top of the hill and I can see a fire in...</td>\n",
       "      <td>1</td>\n",
       "    </tr>\n",
       "    <tr>\n",
       "      <th>8</th>\n",
       "      <td>14</td>\n",
       "      <td>NaN</td>\n",
       "      <td>NaN</td>\n",
       "      <td>There's an emergency evacuation happening now ...</td>\n",
       "      <td>1</td>\n",
       "    </tr>\n",
       "    <tr>\n",
       "      <th>9</th>\n",
       "      <td>15</td>\n",
       "      <td>NaN</td>\n",
       "      <td>NaN</td>\n",
       "      <td>I'm afraid that the tornado is coming to our a...</td>\n",
       "      <td>1</td>\n",
       "    </tr>\n",
       "  </tbody>\n",
       "</table>\n",
       "</div>"
      ],
      "text/plain": [
       "   id keyword location                                               text  \\\n",
       "0   1     NaN      NaN  Our Deeds are the Reason of this #earthquake M...   \n",
       "1   4     NaN      NaN             Forest fire near La Ronge Sask. Canada   \n",
       "2   5     NaN      NaN  All residents asked to 'shelter in place' are ...   \n",
       "3   6     NaN      NaN  13,000 people receive #wildfires evacuation or...   \n",
       "4   7     NaN      NaN  Just got sent this photo from Ruby #Alaska as ...   \n",
       "5   8     NaN      NaN  #RockyFire Update => California Hwy. 20 closed...   \n",
       "6  10     NaN      NaN  #flood #disaster Heavy rain causes flash flood...   \n",
       "7  13     NaN      NaN  I'm on top of the hill and I can see a fire in...   \n",
       "8  14     NaN      NaN  There's an emergency evacuation happening now ...   \n",
       "9  15     NaN      NaN  I'm afraid that the tornado is coming to our a...   \n",
       "\n",
       "   target  \n",
       "0       1  \n",
       "1       1  \n",
       "2       1  \n",
       "3       1  \n",
       "4       1  \n",
       "5       1  \n",
       "6       1  \n",
       "7       1  \n",
       "8       1  \n",
       "9       1  "
      ]
     },
     "execution_count": 2,
     "metadata": {},
     "output_type": "execute_result"
    }
   ],
   "source": [
    "train_df = pd.read_csv('input/nlp-getting-started/train.csv')\n",
    "train_df.head(10)"
   ]
  },
  {
   "cell_type": "code",
   "execution_count": 3,
   "metadata": {
    "execution": {
     "iopub.execute_input": "2024-09-15T18:52:53.347827Z",
     "iopub.status.busy": "2024-09-15T18:52:53.347364Z",
     "iopub.status.idle": "2024-09-15T18:52:53.604099Z",
     "shell.execute_reply": "2024-09-15T18:52:53.602972Z",
     "shell.execute_reply.started": "2024-09-15T18:52:53.347777Z"
    }
   },
   "outputs": [
    {
     "data": {
      "image/png": "[encoded data removed]",
      "text/plain": [
       "<Figure size 640x480 with 1 Axes>"
      ]
     },
     "metadata": {},
     "output_type": "display_data"
    }
   ],
   "source": [
    "train_df['target'].value_counts().plot(kind='bar')\n",
    "plt.ylabel('Count')\n",
    "plt.title('Count by Target')\n",
    "plt.xticks(rotation=0)\n",
    "plt.show()"
   ]
  },
  {
   "cell_type": "code",
   "execution_count": 4,
   "metadata": {
    "execution": {
     "iopub.execute_input": "2024-09-15T18:52:53.606349Z",
     "iopub.status.busy": "2024-09-15T18:52:53.605970Z",
     "iopub.status.idle": "2024-09-15T18:52:53.616217Z",
     "shell.execute_reply": "2024-09-15T18:52:53.614974Z",
     "shell.execute_reply.started": "2024-09-15T18:52:53.606313Z"
    }
   },
   "outputs": [
    {
     "data": {
      "text/plain": [
       "id             0\n",
       "keyword       61\n",
       "location    2533\n",
       "text           0\n",
       "target         0\n",
       "dtype: int64"
      ]
     },
     "execution_count": 4,
     "metadata": {},
     "output_type": "execute_result"
    }
   ],
   "source": [
    "train_df.isnull().sum()\n",
    "#shows large number of nulls in location and some with keyword variables"
   ]
  },
  {
   "cell_type": "code",
   "execution_count": 5,
   "metadata": {
    "execution": {
     "iopub.execute_input": "2024-09-15T18:52:53.618061Z",
     "iopub.status.busy": "2024-09-15T18:52:53.617670Z",
     "iopub.status.idle": "2024-09-15T18:52:53.632887Z",
     "shell.execute_reply": "2024-09-15T18:52:53.631910Z",
     "shell.execute_reply.started": "2024-09-15T18:52:53.618008Z"
    }
   },
   "outputs": [
    {
     "data": {
      "text/plain": [
       "USA                    104\n",
       "New York                71\n",
       "United States           50\n",
       "London                  45\n",
       "Canada                  29\n",
       "                      ... \n",
       "MontrÌ©al, QuÌ©bec       1\n",
       "Montreal                 1\n",
       "ÌÏT: 6.4682,3.18287      1\n",
       "Live4Heed??              1\n",
       "Lincoln                  1\n",
       "Name: location, Length: 3341, dtype: int64"
      ]
     },
     "execution_count": 5,
     "metadata": {},
     "output_type": "execute_result"
    }
   ],
   "source": [
    "train_df['location'].value_counts()"
   ]
  },
  {
   "cell_type": "code",
   "execution_count": 6,
   "metadata": {
    "execution": {
     "iopub.execute_input": "2024-09-15T18:52:53.634771Z",
     "iopub.status.busy": "2024-09-15T18:52:53.634387Z",
     "iopub.status.idle": "2024-09-15T18:52:53.648821Z",
     "shell.execute_reply": "2024-09-15T18:52:53.647706Z",
     "shell.execute_reply.started": "2024-09-15T18:52:53.634732Z"
    }
   },
   "outputs": [
    {
     "data": {
      "text/plain": [
       "fatalities               45\n",
       "deluge                   42\n",
       "armageddon               42\n",
       "sinking                  41\n",
       "damage                   41\n",
       "                         ..\n",
       "forest%20fire            19\n",
       "epicentre                12\n",
       "threat                   11\n",
       "inundation               10\n",
       "radiation%20emergency     9\n",
       "Name: keyword, Length: 221, dtype: int64"
      ]
     },
     "execution_count": 6,
     "metadata": {},
     "output_type": "execute_result"
    }
   ],
   "source": [
    "train_df['keyword'].value_counts()"
   ]
  },
  {
   "cell_type": "markdown",
   "metadata": {},
   "source": [
    "## Data Cleaing and Prep ##\n",
    "using this section to clean up the text for modelling.  This includes replacing nulls with blanks, cleaning special characters/html, and removing stopwords.  Then the data will be tokenized, so the that words can be vectorized for modeling purposes. Lastly, the 20% split of the data will be done for the training and validation data sets."
   ]
  },
  {
   "cell_type": "code",
   "execution_count": 7,
   "metadata": {
    "execution": {
     "iopub.execute_input": "2024-09-15T18:52:53.650386Z",
     "iopub.status.busy": "2024-09-15T18:52:53.650012Z",
     "iopub.status.idle": "2024-09-15T18:52:53.669680Z",
     "shell.execute_reply": "2024-09-15T18:52:53.668499Z",
     "shell.execute_reply.started": "2024-09-15T18:52:53.650347Z"
    }
   },
   "outputs": [
    {
     "data": {
      "text/html": [
       "<div>\n",
       "<style scoped>\n",
       "    .dataframe tbody tr th:only-of-type {\n",
       "        vertical-align: middle;\n",
       "    }\n",
       "\n",
       "    .dataframe tbody tr th {\n",
       "        vertical-align: top;\n",
       "    }\n",
       "\n",
       "    .dataframe thead th {\n",
       "        text-align: right;\n",
       "    }\n",
       "</style>\n",
       "<table border=\"1\" class=\"dataframe\">\n",
       "  <thead>\n",
       "    <tr style=\"text-align: right;\">\n",
       "      <th></th>\n",
       "      <th>id</th>\n",
       "      <th>keyword</th>\n",
       "      <th>location</th>\n",
       "      <th>text</th>\n",
       "      <th>target</th>\n",
       "    </tr>\n",
       "  </thead>\n",
       "  <tbody>\n",
       "    <tr>\n",
       "      <th>0</th>\n",
       "      <td>1</td>\n",
       "      <td></td>\n",
       "      <td></td>\n",
       "      <td>Our Deeds are the Reason of this #earthquake M...</td>\n",
       "      <td>1</td>\n",
       "    </tr>\n",
       "    <tr>\n",
       "      <th>1</th>\n",
       "      <td>4</td>\n",
       "      <td></td>\n",
       "      <td></td>\n",
       "      <td>Forest fire near La Ronge Sask. Canada</td>\n",
       "      <td>1</td>\n",
       "    </tr>\n",
       "    <tr>\n",
       "      <th>2</th>\n",
       "      <td>5</td>\n",
       "      <td></td>\n",
       "      <td></td>\n",
       "      <td>All residents asked to 'shelter in place' are ...</td>\n",
       "      <td>1</td>\n",
       "    </tr>\n",
       "    <tr>\n",
       "      <th>3</th>\n",
       "      <td>6</td>\n",
       "      <td></td>\n",
       "      <td></td>\n",
       "      <td>13,000 people receive #wildfires evacuation or...</td>\n",
       "      <td>1</td>\n",
       "    </tr>\n",
       "    <tr>\n",
       "      <th>4</th>\n",
       "      <td>7</td>\n",
       "      <td></td>\n",
       "      <td></td>\n",
       "      <td>Just got sent this photo from Ruby #Alaska as ...</td>\n",
       "      <td>1</td>\n",
       "    </tr>\n",
       "  </tbody>\n",
       "</table>\n",
       "</div>"
      ],
      "text/plain": [
       "   id keyword location                                               text  \\\n",
       "0   1                   Our Deeds are the Reason of this #earthquake M...   \n",
       "1   4                              Forest fire near La Ronge Sask. Canada   \n",
       "2   5                   All residents asked to 'shelter in place' are ...   \n",
       "3   6                   13,000 people receive #wildfires evacuation or...   \n",
       "4   7                   Just got sent this photo from Ruby #Alaska as ...   \n",
       "\n",
       "   target  \n",
       "0       1  \n",
       "1       1  \n",
       "2       1  \n",
       "3       1  \n",
       "4       1  "
      ]
     },
     "execution_count": 7,
     "metadata": {},
     "output_type": "execute_result"
    }
   ],
   "source": [
    "#Will fill nulls with blanks.  For keywords, this makes sense due to low number of nulls.\n",
    "#Might revist this for location, since about a third fo the locations are missing\n",
    "train_df = train_df.replace(np.nan, '')\n",
    "train_df.head()"
   ]
  },
  {
   "cell_type": "code",
   "execution_count": 8,
   "metadata": {
    "execution": {
     "iopub.execute_input": "2024-09-15T18:52:53.671586Z",
     "iopub.status.busy": "2024-09-15T18:52:53.671140Z",
     "iopub.status.idle": "2024-09-15T18:52:53.683862Z",
     "shell.execute_reply": "2024-09-15T18:52:53.682556Z",
     "shell.execute_reply.started": "2024-09-15T18:52:53.671548Z"
    }
   },
   "outputs": [],
   "source": [
    "# Special thanks to https://www.kaggle.com/tanulsingh077 for this function\n",
    "def clean_text(text):\n",
    "    '''Make text lowercase, remove text in square brackets,remove links,remove punctuation\n",
    "    and remove words containing numbers.'''\n",
    "    text = str(text).lower()\n",
    "    text = re.sub('\\[.*?\\]', '', text)\n",
    "    text = re.sub(\n",
    "        'http[s]?://(?:[a-zA-Z]|[0-9]|[$-_@.&+]|[!*\\(\\),]|(?:%[0-9a-fA-F][0-9a-fA-F]))+', \n",
    "        '', \n",
    "        text\n",
    "    )\n",
    "    text = re.sub('https?://\\S+|www\\.\\S+', '', text)\n",
    "    text = re.sub('<.*?>+', '', text)\n",
    "    text = re.sub('[%s]' % re.escape(string.punctuation), '', text)\n",
    "    text = re.sub('\\n', '', text)\n",
    "    text = re.sub('\\w*\\d\\w*', '', text)\n",
    "    \n",
    "    return text\n",
    "\n",
    "def filter_words(text):\n",
    "    filtered_words = [ word for word in text.split(' ') if word not in stopwords.words('english')]\n",
    "    return filtered_words"
   ]
  },
  {
   "cell_type": "code",
   "execution_count": 96,
   "metadata": {
    "execution": {
     "iopub.execute_input": "2024-09-15T18:52:53.688116Z",
     "iopub.status.busy": "2024-09-15T18:52:53.687583Z",
     "iopub.status.idle": "2024-09-15T18:53:07.217224Z",
     "shell.execute_reply": "2024-09-15T18:53:07.215896Z",
     "shell.execute_reply.started": "2024-09-15T18:52:53.688075Z"
    }
   },
   "outputs": [
    {
     "name": "stderr",
     "output_type": "stream",
     "text": [
      "[nltk_data] Downloading package stopwords to\n",
      "[nltk_data]     C:\\Users\\rkiki\\AppData\\Roaming\\nltk_data...\n",
      "[nltk_data]   Package stopwords is already up-to-date!\n"
     ]
    }
   ],
   "source": [
    "import nltk\n",
    "nltk.download('stopwords')\n",
    "\n",
    "train_df['text'] = train_df['text'].apply(lambda x: clean_text(x))\n",
    "train_df['text'] = train_df['text'].apply(lambda x: filter_words(x))"
   ]
  },
  {
   "cell_type": "code",
   "execution_count": 11,
   "metadata": {
    "execution": {
     "iopub.execute_input": "2024-09-15T18:53:07.218797Z",
     "iopub.status.busy": "2024-09-15T18:53:07.218472Z",
     "iopub.status.idle": "2024-09-15T18:53:07.359047Z",
     "shell.execute_reply": "2024-09-15T18:53:07.357904Z",
     "shell.execute_reply.started": "2024-09-15T18:53:07.218761Z"
    }
   },
   "outputs": [],
   "source": [
    "#max_nr_words = 5000\n",
    "tokenizer = Tokenizer(5000)\n",
    "tokenizer.fit_on_texts(train_df['text'])\n",
    "sequences = tokenizer.texts_to_sequences(train_df['text'])"
   ]
  },
  {
   "cell_type": "code",
   "execution_count": 12,
   "metadata": {
    "execution": {
     "iopub.execute_input": "2024-09-15T18:53:07.360858Z",
     "iopub.status.busy": "2024-09-15T18:53:07.360405Z",
     "iopub.status.idle": "2024-09-15T18:53:07.365919Z",
     "shell.execute_reply": "2024-09-15T18:53:07.364648Z",
     "shell.execute_reply.started": "2024-09-15T18:53:07.360807Z"
    }
   },
   "outputs": [],
   "source": [
    "tot_tokens = len(tokenizer.word_index)"
   ]
  },
  {
   "cell_type": "code",
   "execution_count": 13,
   "metadata": {
    "execution": {
     "iopub.execute_input": "2024-09-15T18:53:07.367820Z",
     "iopub.status.busy": "2024-09-15T18:53:07.367418Z",
     "iopub.status.idle": "2024-09-15T18:53:07.380154Z",
     "shell.execute_reply": "2024-09-15T18:53:07.379037Z",
     "shell.execute_reply.started": "2024-09-15T18:53:07.367775Z"
    }
   },
   "outputs": [
    {
     "name": "stdout",
     "output_type": "stream",
     "text": [
      "51\n"
     ]
    }
   ],
   "source": [
    "#len(sequences[1])\n",
    "max_seq = 0\n",
    "for i in range(len(sequences)):\n",
    "    if len(sequences[i]) > max_seq:\n",
    "        max_seq = len(sequences[i])\n",
    "print(max_seq)"
   ]
  },
  {
   "cell_type": "code",
   "execution_count": 14,
   "metadata": {
    "execution": {
     "iopub.execute_input": "2024-09-15T18:53:07.381812Z",
     "iopub.status.busy": "2024-09-15T18:53:07.381439Z",
     "iopub.status.idle": "2024-09-15T18:53:07.411769Z",
     "shell.execute_reply": "2024-09-15T18:53:07.410651Z",
     "shell.execute_reply.started": "2024-09-15T18:53:07.381765Z"
    }
   },
   "outputs": [],
   "source": [
    "padded_seq = pad_sequences(sequences, max_seq)"
   ]
  },
  {
   "cell_type": "code",
   "execution_count": 16,
   "metadata": {
    "execution": {
     "iopub.execute_input": "2024-09-15T18:53:07.677734Z",
     "iopub.status.busy": "2024-09-15T18:53:07.677370Z",
     "iopub.status.idle": "2024-09-15T18:53:07.691259Z",
     "shell.execute_reply": "2024-09-15T18:53:07.690124Z",
     "shell.execute_reply.started": "2024-09-15T18:53:07.677696Z"
    }
   },
   "outputs": [],
   "source": [
    "#Create a 20% validation data set for testing\n",
    "X = padded_seq\n",
    "y = train_df['target']\n",
    "\n",
    "x_train, x_val, y_train, y_val = train_test_split(X,y, test_size=0.2, random_state=25)"
   ]
  },
  {
   "cell_type": "code",
   "execution_count": 17,
   "metadata": {
    "execution": {
     "iopub.execute_input": "2024-09-15T18:53:07.693008Z",
     "iopub.status.busy": "2024-09-15T18:53:07.692639Z",
     "iopub.status.idle": "2024-09-15T18:53:07.702278Z",
     "shell.execute_reply": "2024-09-15T18:53:07.701209Z",
     "shell.execute_reply.started": "2024-09-15T18:53:07.692972Z"
    }
   },
   "outputs": [
    {
     "data": {
      "text/plain": [
       "0    3495\n",
       "1    2595\n",
       "Name: target, dtype: int64"
      ]
     },
     "execution_count": 17,
     "metadata": {},
     "output_type": "execute_result"
    }
   ],
   "source": [
    "y_train.value_counts()"
   ]
  },
  {
   "cell_type": "code",
   "execution_count": 18,
   "metadata": {
    "execution": {
     "iopub.execute_input": "2024-09-15T18:53:07.706164Z",
     "iopub.status.busy": "2024-09-15T18:53:07.705818Z",
     "iopub.status.idle": "2024-09-15T18:53:07.714576Z",
     "shell.execute_reply": "2024-09-15T18:53:07.713573Z",
     "shell.execute_reply.started": "2024-09-15T18:53:07.706128Z"
    }
   },
   "outputs": [
    {
     "data": {
      "text/plain": [
       "0    847\n",
       "1    676\n",
       "Name: target, dtype: int64"
      ]
     },
     "execution_count": 18,
     "metadata": {},
     "output_type": "execute_result"
    }
   ],
   "source": [
    "y_val.value_counts()"
   ]
  },
  {
   "cell_type": "code",
   "execution_count": 19,
   "metadata": {
    "execution": {
     "iopub.execute_input": "2024-09-15T18:53:07.716581Z",
     "iopub.status.busy": "2024-09-15T18:53:07.716130Z",
     "iopub.status.idle": "2024-09-15T18:53:07.724524Z",
     "shell.execute_reply": "2024-09-15T18:53:07.723485Z",
     "shell.execute_reply.started": "2024-09-15T18:53:07.716532Z"
    }
   },
   "outputs": [
    {
     "name": "stdout",
     "output_type": "stream",
     "text": [
      "(6090, 51)\n",
      "(1523, 51)\n"
     ]
    }
   ],
   "source": [
    "print(x_train.shape)\n",
    "print(x_val.shape)"
   ]
  },
  {
   "cell_type": "markdown",
   "metadata": {},
   "source": [
    "## Model ##\n",
    "This section will create an RNN model, relying on embedding and LSTM.  The model was manually iterated through to get solid results.  This section also has the model results, including accuracy and loss."
   ]
  },
  {
   "cell_type": "code",
   "execution_count": 144,
   "metadata": {
    "execution": {
     "iopub.execute_input": "2024-09-15T18:59:56.892967Z",
     "iopub.status.busy": "2024-09-15T18:59:56.892538Z",
     "iopub.status.idle": "2024-09-15T18:59:56.921353Z",
     "shell.execute_reply": "2024-09-15T18:59:56.920320Z",
     "shell.execute_reply.started": "2024-09-15T18:59:56.892924Z"
    }
   },
   "outputs": [
    {
     "name": "stdout",
     "output_type": "stream",
     "text": [
      "Model: \"sequential_16\"\n",
      "_________________________________________________________________\n",
      " Layer (type)                Output Shape              Param #   \n",
      "=================================================================\n",
      " embedding_16 (Embedding)    (None, 51, 16)            267296    \n",
      "                                                                 \n",
      " dropout_21 (Dropout)        (None, 51, 16)            0         \n",
      "                                                                 \n",
      " lstm_18 (LSTM)              (None, 128)               74240     \n",
      "                                                                 \n",
      " dropout_22 (Dropout)        (None, 128)               0         \n",
      "                                                                 \n",
      " dense_14 (Dense)            (None, 1)                 129       \n",
      "                                                                 \n",
      "=================================================================\n",
      "Total params: 341,665\n",
      "Trainable params: 341,665\n",
      "Non-trainable params: 0\n",
      "_________________________________________________________________\n"
     ]
    }
   ],
   "source": [
    "model = Sequential()\n",
    "model.add(Embedding(tot_tokens+1, 16, input_length=max_seq))\n",
    "model.add(Dropout(0.2))\n",
    "model.add(LSTM(128))\n",
    "model.add(Dropout(0.2))\n",
    "model.add((Dense(1, activation='sigmoid')))\n",
    "\n",
    "model.summary()"
   ]
  },
  {
   "cell_type": "code",
   "execution_count": 145,
   "metadata": {
    "execution": {
     "iopub.execute_input": "2024-09-15T19:00:00.909660Z",
     "iopub.status.busy": "2024-09-15T19:00:00.909255Z",
     "iopub.status.idle": "2024-09-15T19:00:00.920893Z",
     "shell.execute_reply": "2024-09-15T19:00:00.919786Z",
     "shell.execute_reply.started": "2024-09-15T19:00:00.909624Z"
    }
   },
   "outputs": [],
   "source": [
    "optimizer = Adam(learning_rate=0.0001)\n",
    "model.compile(optimizer=optimizer, loss='binary_crossentropy', metrics=['accuracy'])"
   ]
  },
  {
   "cell_type": "code",
   "execution_count": 146,
   "metadata": {
    "execution": {
     "iopub.execute_input": "2024-09-15T19:00:03.539242Z",
     "iopub.status.busy": "2024-09-15T19:00:03.538003Z",
     "iopub.status.idle": "2024-09-15T19:00:06.085945Z",
     "shell.execute_reply": "2024-09-15T19:00:06.084273Z",
     "shell.execute_reply.started": "2024-09-15T19:00:03.539171Z"
    }
   },
   "outputs": [
    {
     "name": "stdout",
     "output_type": "stream",
     "text": [
      "Epoch 1/5\n",
      "191/191 [==============================] - 5s 16ms/step - loss: 0.6827 - accuracy: 0.5700 - val_loss: 0.6805 - val_accuracy: 0.5561\n",
      "Epoch 2/5\n",
      "191/191 [==============================] - 3s 13ms/step - loss: 0.6666 - accuracy: 0.5842 - val_loss: 0.6558 - val_accuracy: 0.6349\n",
      "Epoch 3/5\n",
      "191/191 [==============================] - 2s 13ms/step - loss: 0.6205 - accuracy: 0.6831 - val_loss: 0.6058 - val_accuracy: 0.6829\n",
      "Epoch 4/5\n",
      "191/191 [==============================] - 2s 12ms/step - loss: 0.5392 - accuracy: 0.7532 - val_loss: 0.5264 - val_accuracy: 0.7538\n",
      "Epoch 5/5\n",
      "191/191 [==============================] - 2s 12ms/step - loss: 0.4364 - accuracy: 0.8082 - val_loss: 0.4877 - val_accuracy: 0.7663\n"
     ]
    }
   ],
   "source": [
    "\n",
    "hist = model.fit(x=x_train, y=y_train, epochs=5, validation_data=(x_val, y_val))"
   ]
  },
  {
   "cell_type": "code",
   "execution_count": 147,
   "metadata": {},
   "outputs": [
    {
     "name": "stdout",
     "output_type": "stream",
     "text": [
      "48/48 [==============================] - 1s 4ms/step\n"
     ]
    }
   ],
   "source": [
    "pred = model.predict(x_val)\n",
    "pred_binary = (pred > 0.5).astype(int).flatten()\n",
    "y_pred = pred_binary[:len(y_val)]"
   ]
  },
  {
   "cell_type": "code",
   "execution_count": 148,
   "metadata": {},
   "outputs": [
    {
     "name": "stdout",
     "output_type": "stream",
     "text": [
      "Accuracy: 0.7662508207485227\n",
      "Precision: 0.8619909502262444\n",
      "Recall: 0.5636094674556213\n",
      "F1: 0.6815742397137746\n",
      "ROC AUC: 0.7457952886274565\n"
     ]
    }
   ],
   "source": [
    "#check standard classification metrics\n",
    "accuracy = accuracy_score(y_val, y_pred)\n",
    "print(f'Accuracy: {accuracy}')\n",
    "precision = precision_score(y_val, y_pred)\n",
    "print(f'Precision: {precision}')\n",
    "recall = recall_score(y_val, y_pred)\n",
    "print(f'Recall: {recall}')\n",
    "f1 = f1_score(y_val, y_pred)\n",
    "print(f'F1: {f1}')\n",
    "roc_auc = roc_auc_score(y_val, y_pred)\n",
    "print(f'ROC AUC: {roc_auc}')"
   ]
  },
  {
   "cell_type": "code",
   "execution_count": 149,
   "metadata": {},
   "outputs": [
    {
     "data": {
      "text/html": [
       "<div>\n",
       "<style scoped>\n",
       "    .dataframe tbody tr th:only-of-type {\n",
       "        vertical-align: middle;\n",
       "    }\n",
       "\n",
       "    .dataframe tbody tr th {\n",
       "        vertical-align: top;\n",
       "    }\n",
       "\n",
       "    .dataframe thead th {\n",
       "        text-align: right;\n",
       "    }\n",
       "</style>\n",
       "<table border=\"1\" class=\"dataframe\">\n",
       "  <thead>\n",
       "    <tr style=\"text-align: right;\">\n",
       "      <th></th>\n",
       "      <th>loss</th>\n",
       "      <th>accuracy</th>\n",
       "      <th>val_loss</th>\n",
       "      <th>val_accuracy</th>\n",
       "    </tr>\n",
       "  </thead>\n",
       "  <tbody>\n",
       "    <tr>\n",
       "      <th>0</th>\n",
       "      <td>0.682681</td>\n",
       "      <td>0.569951</td>\n",
       "      <td>0.680482</td>\n",
       "      <td>0.556139</td>\n",
       "    </tr>\n",
       "    <tr>\n",
       "      <th>1</th>\n",
       "      <td>0.666647</td>\n",
       "      <td>0.584236</td>\n",
       "      <td>0.655757</td>\n",
       "      <td>0.634931</td>\n",
       "    </tr>\n",
       "    <tr>\n",
       "      <th>2</th>\n",
       "      <td>0.620549</td>\n",
       "      <td>0.683087</td>\n",
       "      <td>0.605791</td>\n",
       "      <td>0.682863</td>\n",
       "    </tr>\n",
       "    <tr>\n",
       "      <th>3</th>\n",
       "      <td>0.539244</td>\n",
       "      <td>0.753202</td>\n",
       "      <td>0.526377</td>\n",
       "      <td>0.753775</td>\n",
       "    </tr>\n",
       "    <tr>\n",
       "      <th>4</th>\n",
       "      <td>0.436377</td>\n",
       "      <td>0.808210</td>\n",
       "      <td>0.487699</td>\n",
       "      <td>0.766251</td>\n",
       "    </tr>\n",
       "  </tbody>\n",
       "</table>\n",
       "</div>"
      ],
      "text/plain": [
       "       loss  accuracy  val_loss  val_accuracy\n",
       "0  0.682681  0.569951  0.680482      0.556139\n",
       "1  0.666647  0.584236  0.655757      0.634931\n",
       "2  0.620549  0.683087  0.605791      0.682863\n",
       "3  0.539244  0.753202  0.526377      0.753775\n",
       "4  0.436377  0.808210  0.487699      0.766251"
      ]
     },
     "execution_count": 149,
     "metadata": {},
     "output_type": "execute_result"
    }
   ],
   "source": [
    "#set up dataframe of model results for overfitting plots\n",
    "hist = pd.DataFrame(hist.history)\n",
    "hist.head(5)"
   ]
  },
  {
   "cell_type": "code",
   "execution_count": 150,
   "metadata": {},
   "outputs": [
    {
     "data": {
      "image/png": "[encoded data removed]",
      "text/plain": [
       "<Figure size 640x480 with 2 Axes>"
      ]
     },
     "metadata": {},
     "output_type": "display_data"
    }
   ],
   "source": [
    "#check for overfitting\n",
    "\n",
    "#Plot the loss metric\n",
    "plt.subplot(1, 2, 1)\n",
    "plt.plot(hist['loss'], label='Training Loss')\n",
    "plt.plot(hist['val_loss'], label='Validation Loss')\n",
    "plt.legend()\n",
    "plt.title('Training and Validation Loss')\n",
    "\n",
    "plt.subplot(1, 2, 2)\n",
    "plt.plot(hist['accuracy'], label='Training Accuracy')\n",
    "plt.plot(hist['val_accuracy'], label='Validation Accuracy')\n",
    "plt.legend()\n",
    "plt.title('Training and Validation Accuracy')\n",
    "\n",
    "plt.tight_layout()\n",
    "plt.show()"
   ]
  },
  {
   "cell_type": "markdown",
   "metadata": {},
   "source": [
    "## Results  ##\n",
    "For this model, I ran mutliple tests changing the number of epochs, learning curve, and model structure.  I started with a learning curve of 0.001, which had the wrong loss curve shape for the validation of sloping the opposite direction from the training loss.  Then moved to 0.0001 learning curve, which produces similar losses and accuracy to training.  Also, adjusted the epochs up and down with 4-5 being the sweet spot (10 showed meaningful divergence after epoch 5).  Lastly, played with including or removing dropouts between embedding and LSTM portions of the model.\n",
    "\n",
    "The results of the final model are accuracy of around 77% and loss curve that aligns between training and validation.  "
   ]
  },
  {
   "cell_type": "markdown",
   "metadata": {},
   "source": [
    "## Submission Prep ##\n",
    "Kaggle Submission Data Prep, model run, and file creations"
   ]
  },
  {
   "cell_type": "code",
   "execution_count": 151,
   "metadata": {},
   "outputs": [
    {
     "data": {
      "text/html": [
       "<div>\n",
       "<style scoped>\n",
       "    .dataframe tbody tr th:only-of-type {\n",
       "        vertical-align: middle;\n",
       "    }\n",
       "\n",
       "    .dataframe tbody tr th {\n",
       "        vertical-align: top;\n",
       "    }\n",
       "\n",
       "    .dataframe thead th {\n",
       "        text-align: right;\n",
       "    }\n",
       "</style>\n",
       "<table border=\"1\" class=\"dataframe\">\n",
       "  <thead>\n",
       "    <tr style=\"text-align: right;\">\n",
       "      <th></th>\n",
       "      <th>id</th>\n",
       "      <th>keyword</th>\n",
       "      <th>location</th>\n",
       "      <th>text</th>\n",
       "    </tr>\n",
       "  </thead>\n",
       "  <tbody>\n",
       "    <tr>\n",
       "      <th>0</th>\n",
       "      <td>0</td>\n",
       "      <td>NaN</td>\n",
       "      <td>NaN</td>\n",
       "      <td>Just happened a terrible car crash</td>\n",
       "    </tr>\n",
       "    <tr>\n",
       "      <th>1</th>\n",
       "      <td>2</td>\n",
       "      <td>NaN</td>\n",
       "      <td>NaN</td>\n",
       "      <td>Heard about #earthquake is different cities, s...</td>\n",
       "    </tr>\n",
       "    <tr>\n",
       "      <th>2</th>\n",
       "      <td>3</td>\n",
       "      <td>NaN</td>\n",
       "      <td>NaN</td>\n",
       "      <td>there is a forest fire at spot pond, geese are...</td>\n",
       "    </tr>\n",
       "    <tr>\n",
       "      <th>3</th>\n",
       "      <td>9</td>\n",
       "      <td>NaN</td>\n",
       "      <td>NaN</td>\n",
       "      <td>Apocalypse lighting. #Spokane #wildfires</td>\n",
       "    </tr>\n",
       "    <tr>\n",
       "      <th>4</th>\n",
       "      <td>11</td>\n",
       "      <td>NaN</td>\n",
       "      <td>NaN</td>\n",
       "      <td>Typhoon Soudelor kills 28 in China and Taiwan</td>\n",
       "    </tr>\n",
       "    <tr>\n",
       "      <th>5</th>\n",
       "      <td>12</td>\n",
       "      <td>NaN</td>\n",
       "      <td>NaN</td>\n",
       "      <td>We're shaking...It's an earthquake</td>\n",
       "    </tr>\n",
       "    <tr>\n",
       "      <th>6</th>\n",
       "      <td>21</td>\n",
       "      <td>NaN</td>\n",
       "      <td>NaN</td>\n",
       "      <td>They'd probably still show more life than Arse...</td>\n",
       "    </tr>\n",
       "    <tr>\n",
       "      <th>7</th>\n",
       "      <td>22</td>\n",
       "      <td>NaN</td>\n",
       "      <td>NaN</td>\n",
       "      <td>Hey! How are you?</td>\n",
       "    </tr>\n",
       "    <tr>\n",
       "      <th>8</th>\n",
       "      <td>27</td>\n",
       "      <td>NaN</td>\n",
       "      <td>NaN</td>\n",
       "      <td>What a nice hat?</td>\n",
       "    </tr>\n",
       "    <tr>\n",
       "      <th>9</th>\n",
       "      <td>29</td>\n",
       "      <td>NaN</td>\n",
       "      <td>NaN</td>\n",
       "      <td>Fuck off!</td>\n",
       "    </tr>\n",
       "  </tbody>\n",
       "</table>\n",
       "</div>"
      ],
      "text/plain": [
       "   id keyword location                                               text\n",
       "0   0     NaN      NaN                 Just happened a terrible car crash\n",
       "1   2     NaN      NaN  Heard about #earthquake is different cities, s...\n",
       "2   3     NaN      NaN  there is a forest fire at spot pond, geese are...\n",
       "3   9     NaN      NaN           Apocalypse lighting. #Spokane #wildfires\n",
       "4  11     NaN      NaN      Typhoon Soudelor kills 28 in China and Taiwan\n",
       "5  12     NaN      NaN                 We're shaking...It's an earthquake\n",
       "6  21     NaN      NaN  They'd probably still show more life than Arse...\n",
       "7  22     NaN      NaN                                  Hey! How are you?\n",
       "8  27     NaN      NaN                                   What a nice hat?\n",
       "9  29     NaN      NaN                                          Fuck off!"
      ]
     },
     "execution_count": 151,
     "metadata": {},
     "output_type": "execute_result"
    }
   ],
   "source": [
    "test_df = pd.read_csv('input/nlp-getting-started/test.csv')\n",
    "test_df.head(10)"
   ]
  },
  {
   "cell_type": "code",
   "execution_count": 152,
   "metadata": {},
   "outputs": [],
   "source": [
    "test_df = test_df.replace(np.nan, '')\n",
    "\n",
    "test_df['text'] = test_df['text'].apply(lambda x: clean_text(x))\n",
    "test_df['text'] = test_df['text'].apply(lambda x: filter_words(x))"
   ]
  },
  {
   "cell_type": "code",
   "execution_count": 153,
   "metadata": {},
   "outputs": [],
   "source": [
    "seq_test = tokenizer.texts_to_sequences(test_df['text'])\n",
    "padded_seq_test = pad_sequences(seq_test, max_seq)"
   ]
  },
  {
   "cell_type": "code",
   "execution_count": 154,
   "metadata": {},
   "outputs": [
    {
     "name": "stdout",
     "output_type": "stream",
     "text": [
      "102/102 [==============================] - 0s 4ms/step\n"
     ]
    }
   ],
   "source": [
    "pred_test = model.predict(padded_seq_test)\n",
    "pred_binary_test = (pred_test > 0.5).astype(int).flatten()"
   ]
  },
  {
   "cell_type": "code",
   "execution_count": 155,
   "metadata": {},
   "outputs": [],
   "source": [
    "test_df['target'] = pred_binary_test"
   ]
  },
  {
   "cell_type": "code",
   "execution_count": 156,
   "metadata": {},
   "outputs": [],
   "source": [
    "submission = test_df[['id','target']]"
   ]
  },
  {
   "cell_type": "code",
   "execution_count": 157,
   "metadata": {},
   "outputs": [],
   "source": [
    "submission.to_csv('nlp.csv', index=False)"
   ]
  },
  {
   "cell_type": "code",
   "execution_count": null,
   "metadata": {},
   "outputs": [],
   "source": []
  }
 ],
 "metadata": {
  "kaggle": {
   "accelerator": "none",
   "dataSources": [
    {
     "databundleVersionId": 869809,
     "sourceId": 17777,
     "sourceType": "competition"
    }
   ],
   "isGpuEnabled": false,
   "isInternetEnabled": false,
   "language": "python",
   "sourceType": "notebook"
  },
  "kernelspec": {
   "display_name": "Python 3 (ipykernel)",
   "language": "python",
   "name": "python3"
  },
  "language_info": {
   "codemirror_mode": {
    "name": "ipython",
    "version": 3
   },
   "file_extension": ".py",
   "mimetype": "text/x-python",
   "name": "python",
   "nbconvert_exporter": "python",
   "pygments_lexer": "ipython3",
   "version": "3.9.13"
  }
 },
 "nbformat": 4,
 "nbformat_minor": 4
}
